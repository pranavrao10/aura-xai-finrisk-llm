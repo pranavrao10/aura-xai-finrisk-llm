{
 "cells": [
  {
   "cell_type": "markdown",
   "id": "b0276a00",
   "metadata": {},
   "source": [
    "# Credit Risk Assessment: Surrogate Logistic Regression\n",
    "\n",
    "---"
   ]
  },
  {
   "cell_type": "code",
   "execution_count": 1,
   "id": "e77ac804",
   "metadata": {},
   "outputs": [],
   "source": [
    "from aura.utils.pathing import models, reports, root\n",
    "import joblib\n",
    "import json\n",
    "import shap \n",
    "import numpy as np\n",
    "import pandas as pd\n",
    "from sklearn.linear_model import LogisticRegressionCV\n",
    "from sklearn.metrics import (\n",
    "    roc_auc_score, average_precision_score, accuracy_score,\n",
    "    precision_recall_curve, RocCurveDisplay, confusion_matrix,\n",
    "    classification_report\n",
    ")\n",
    "from scipy import sparse\n",
    "from pathlib import Path\n",
    "from datetime import date\n",
    "import warnings\n",
    "warnings.filterwarnings(\"ignore\")\n",
    "stamp=date.today().isoformat()"
   ]
  },
  {
   "cell_type": "markdown",
   "id": "a5d4ce33",
   "metadata": {},
   "source": [
    "### Data Loading"
   ]
  },
  {
   "cell_type": "code",
   "execution_count": 2,
   "id": "587ff582",
   "metadata": {},
   "outputs": [],
   "source": [
    "top_idx = joblib.load(models/\"shap_topidx_v1.joblib\")\n",
    "data = Path(\"../data/processed\")\n",
    "X_train = sparse.load_npz(data/\"X_train.npz\")[:,top_idx]\n",
    "X_test  = sparse.load_npz(data/\"X_test.npz\")[:,top_idx]\n",
    "y_train = pd.read_csv(data/\"y_train.csv\").squeeze()\n",
    "y_test  = pd.read_csv(data/\"y_test.csv\").squeeze()"
   ]
  },
  {
   "cell_type": "markdown",
   "id": "579d1c32",
   "metadata": {},
   "source": [
    "### Surrogate Logistic Regression Model"
   ]
  },
  {
   "cell_type": "code",
   "execution_count": 3,
   "id": "76cef3cc",
   "metadata": {},
   "outputs": [
    {
     "name": "stdout",
     "output_type": "stream",
     "text": [
      "Using cached surrogate\n",
      "Surrogate LR artefacts & metrics saved\n"
     ]
    }
   ],
   "source": [
    "sur_path = models/\"surrogate_lr_v1.joblib\"\n",
    "if sur_path.exists():\n",
    "    print(\"Using cached surrogate\"); sur = joblib.load(sur_path)\n",
    "else:\n",
    "    sur = LogisticRegressionCV(\n",
    "        penalty=\"l1\", solver=\"saga\", class_weight=\"balanced\",\n",
    "        Cs=np.logspace(-2,1,8), cv=5, scoring=\"roc_auc\",\n",
    "        max_iter=300, tol=1e-3, n_jobs=-4, verbose=1, random_state=42\n",
    "    ).fit(X_train, y_train)\n",
    "\n",
    "    joblib.dump(sur, sur_path)\n",
    "    joblib.dump(top_idx, models/\"shap_topidx_v1.joblib\") \n",
    "\n",
    "y_pred = sur.predict_proba(X_test)[:, 1]\n",
    "pred  = (y_pred > 0.50).astype(int) \n",
    "auc= roc_auc_score(y_test, y_pred)\n",
    "pr_auc= average_precision_score(y_test, y_pred)\n",
    "accuracy= accuracy_score(y_test, pred)\n",
    "report = classification_report(y_test, pred, digits=3, zero_division=0)\n",
    "md_file = reports / \"metrics_surrogate.md\"\n",
    "with open(md_file, \"w\") as f:\n",
    "    f.write(f\"# Surrogate Logistic Regression – {stamp}\\n\\n\")\n",
    "    f.write(\"| Metric | Value |\\n|--------|-------|\\n\")\n",
    "    f.write(f\"| ROC-AUC | **{auc:.4f}** |\\n\")\n",
    "    f.write(f\"| PR-AUC  | **{pr_auc:.3f}** |\\n\")\n",
    "    f.write(f\"| Accuracy| **{accuracy:.3f}** |\\n\\n\")\n",
    "    f.write(\"<details><summary>Classification report</summary>\\n\\n```\\n\")\n",
    "    f.write(report)\n",
    "    f.write(\"\\n```\\n</details>\\n\")\n",
    "\n",
    "print(\"Surrogate LR artefacts & metrics saved\")"
   ]
  },
  {
   "cell_type": "code",
   "execution_count": null,
   "id": "6dd28ed8",
   "metadata": {},
   "outputs": [],
   "source": []
  }
 ],
 "metadata": {
  "kernelspec": {
   "display_name": "base",
   "language": "python",
   "name": "python3"
  },
  "language_info": {
   "codemirror_mode": {
    "name": "ipython",
    "version": 3
   },
   "file_extension": ".py",
   "mimetype": "text/x-python",
   "name": "python",
   "nbconvert_exporter": "python",
   "pygments_lexer": "ipython3",
   "version": "3.12.7"
  }
 },
 "nbformat": 4,
 "nbformat_minor": 5
}
