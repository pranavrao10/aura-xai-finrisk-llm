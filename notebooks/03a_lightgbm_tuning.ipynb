{
 "cells": [
  {
   "cell_type": "markdown",
   "id": "e3fe0c7f",
   "metadata": {},
   "source": [
    "# Credit Risk Assessment: LightGBM Model Tuning\n",
    "\n",
    "---"
   ]
  },
  {
   "cell_type": "markdown",
   "id": "f2faec21",
   "metadata": {},
   "source": [
    "### Import Libraries and set Configurations"
   ]
  },
  {
   "cell_type": "code",
   "execution_count": 2,
   "id": "31b208bb",
   "metadata": {},
   "outputs": [],
   "source": [
    "import pandas as pd\n",
    "from pathlib import Path\n",
    "import numpy as np\n",
    "import matplotlib.pyplot as plt\n",
    "import joblib\n",
    "import optuna\n",
    "import lightgbm as lgb\n",
    "from scipy import sparse\n",
    "from sklearn.metrics import (\n",
    "    classification_report, confusion_matrix,\n",
    "    roc_auc_score, average_precision_score,\n",
    "    precision_recall_curve, RocCurveDisplay\n",
    ")\n",
    "from sklearn.linear_model import LogisticRegressionCV\n",
    "from sklearn.model_selection import StratifiedKFold\n",
    "import shap\n",
    "import warnings\n",
    "from aura.utils.pathing import models,reports, root\n",
    "from datetime import date\n",
    "import json\n",
    "\n",
    "warnings.filterwarnings(\"ignore\")\n",
    "data = Path(\"../data/processed\")\n",
    "random_state=42\n",
    "stamp = date.today().isoformat()"
   ]
  },
  {
   "cell_type": "markdown",
   "id": "d4a8e1c2",
   "metadata": {},
   "source": [
    "### Load Data"
   ]
  },
  {
   "cell_type": "code",
   "execution_count": 3,
   "id": "843ca4d7",
   "metadata": {},
   "outputs": [
    {
     "name": "stdout",
     "output_type": "stream",
     "text": [
      "train (1076248, 134)  test (269062, 134)\n"
     ]
    }
   ],
   "source": [
    "X_train = sparse.load_npz(data/\"X_train.npz\")\n",
    "X_test = sparse.load_npz(data/\"X_test.npz\")\n",
    "y_train = pd.read_csv(data/\"y_train.csv\").squeeze(\"columns\")\n",
    "y_test = pd.read_csv(data/\"y_test.csv\").squeeze(\"columns\")\n",
    "pre = joblib.load(data / \"preprocessor.joblib\")\n",
    "all_features = pre.get_feature_names_out()\n",
    "print(\"train\", X_train.shape, \" test\", X_test.shape)"
   ]
  },
  {
   "cell_type": "markdown",
   "id": "6c2d5bfa",
   "metadata": {},
   "source": [
    "### Tune LightGBM Model"
   ]
  },
  {
   "cell_type": "code",
   "execution_count": 4,
   "id": "2d0fbc9e",
   "metadata": {},
   "outputs": [
    {
     "name": "stdout",
     "output_type": "stream",
     "text": [
      "Using cached LightGBM: lgbm_v1.joblib\n"
     ]
    }
   ],
   "source": [
    "model_version = \"v1\"\n",
    "gbm_path = models / f\"lgbm_{model_version}.joblib\"\n",
    "params_path = models / f\"params_lightgbm_{model_version}.json\"\n",
    "if gbm_path.exists():\n",
    "    print(\"Using cached LightGBM:\", gbm_path.name)\n",
    "    gbm = joblib.load(gbm_path)\n",
    "else:\n",
    "    pre = joblib.load(data / \"preprocessor.joblib\")\n",
    "    all_features = pre.get_feature_names_out()\n",
    "    mono_vec = [ {\"num__dti\":1,\"num__loan_to_income\":1,\n",
    "                  \"num__installment_to_income\":1,\"num__credit_age_months\":-1,\n",
    "                  \"ord__grade\":1,\"ord__sub_grade\":1}.get(f,0)\n",
    "                 for f in all_features ]\n",
    "\n",
    "    def objective(trial):\n",
    "        params = {\n",
    "            \"objective\": \"binary\",\n",
    "            \"metric\": \"auc\",\n",
    "            \"boosting_type\": \"gbdt\",\n",
    "            \"verbosity\": -1,                 \n",
    "            \"learning_rate\":trial.suggest_float(\"learning_rate\", 0.01, 0.2, log=True),\n",
    "            \"num_leaves\":trial.suggest_int(\"num_leaves\", 31, 511, log=True),\n",
    "            \"max_depth\":trial.suggest_int(\"max_depth\", 3, 16),\n",
    "            \"min_child_samples\": trial.suggest_int(\"min_child_samples\", 20, 1000, log=True),\n",
    "            \"colsample_bytree\": trial.suggest_float(\"colsample_bytree\", 0.6, 1.0),  \n",
    "            \"subsample\": trial.suggest_float(\"subsample\", 0.6, 1.0),       \n",
    "            \"subsample_freq\": trial.suggest_int(\"subsample_freq\", 1, 10),\n",
    "            \"reg_alpha\": trial.suggest_float(\"reg_alpha\", 1e-3, 10.0, log=True),\n",
    "            \"reg_lambda\": trial.suggest_float(\"reg_lambda\", 1e-3, 10.0, log=True),\n",
    "            \"class_weight\":\"balanced\",\n",
    "            \"monotone_constraints\": mono_vec,\n",
    "            \"force_col_wise\":True,\n",
    "            \"random_state\":random_state,\n",
    "        }\n",
    "\n",
    "        cv = StratifiedKFold(n_splits=5, shuffle=True, random_state=random_state)\n",
    "        aucs=[]\n",
    "        for tr,va in cv.split(X_train, y_train):\n",
    "            bst = lgb.train(params,\n",
    "                            lgb.Dataset(X_train[tr], y_train.iloc[tr]),\n",
    "                            num_boost_round=5000,\n",
    "                            valid_sets=[lgb.Dataset(X_train[va], y_train.iloc[va])],\n",
    "                            callbacks=[lgb.early_stopping(200, verbose=False)])\n",
    "            aucs.append(roc_auc_score(y_train.iloc[va], bst.predict(X_train[va])))\n",
    "        return np.mean(aucs)\n",
    "\n",
    "    study = optuna.create_study(direction=\"maximize\", sampler=optuna.samplers.TPESampler(seed=random_state))\n",
    "    study.optimize(objective, n_trials=60, timeout=3600)\n",
    "    best_params = study.best_params\n",
    "    best_params |= {\n",
    "    \"objective\": \"binary\",\n",
    "    \"metric\": \"auc\",\n",
    "    \"class_weight\": \"balanced\",\n",
    "    \"monotone_constraints\": mono_vec,\n",
    "    \"force_col_wise\": True,\n",
    "    \"random_state\": random_state,\n",
    "}\n",
    "    gbm = lgb.LGBMClassifier(**best_params).fit(X_train, y_train)\n",
    "\n",
    "    joblib.dump(gbm, gbm_path)\n",
    "    with open(params_path,\"w\") as fp: json.dump(best_params, fp, indent=2)"
   ]
  },
  {
   "cell_type": "markdown",
   "id": "c19282fd",
   "metadata": {},
   "source": [
    "### Model Evaluation"
   ]
  },
  {
   "cell_type": "code",
   "execution_count": 6,
   "id": "186e7931",
   "metadata": {},
   "outputs": [
    {
     "name": "stdout",
     "output_type": "stream",
     "text": [
      "metrics markdown written: reports/metrics_lightgbm.md\n"
     ]
    },
    {
     "data": {
      "image/png": "[encoded data removed]",
      "text/plain": [
       "<Figure size 640x480 with 1 Axes>"
      ]
     },
     "metadata": {},
     "output_type": "display_data"
    }
   ],
   "source": [
    "preds = gbm.predict_proba(X_test)[:, 1]\n",
    "y_pred = (preds > 0.70).astype(int)        \n",
    "auc = roc_auc_score(y_test, preds)\n",
    "pr_auc= average_precision_score(y_test, preds)\n",
    "report= classification_report(y_test, y_pred, digits=3, zero_division=0)\n",
    "acc= (y_pred == y_test).mean()\n",
    "cm= confusion_matrix(y_test, y_pred)\n",
    "\n",
    "md = reports / \"metrics_lightgbm.md\"\n",
    "with open(md, \"w\") as f:\n",
    "    f.write(f\"# LightGBM – {stamp}\\n\\n\")\n",
    "    f.write(\"| Metric | Value |\\n|--------|-------|\\n\")\n",
    "    f.write(f\"| ROC-AUC | **{auc:.4f}** |\\n\")\n",
    "    f.write(f\"| PR-AUC  | **{pr_auc:.3f}** |\\n\")\n",
    "    f.write(f\"| Accuracy| **{acc:.3f}** |\\n\\n\")\n",
    "    f.write(\"<details><summary>Classification report</summary>\\n\\n```\\n\")\n",
    "    f.write(report)\n",
    "    f.write(\"\\n```\\n</details>\\n\")\n",
    "print(\"metrics markdown written:\", md.relative_to(root))\n",
    "\n",
    "fig_roc = RocCurveDisplay.from_predictions(y_test, preds, name=\"LGBM ROC\")\n",
    "fig_roc.figure_.savefig(reports / \"figs\" / \"roc_lgbm.png\", dpi=300)"
   ]
  },
  {
   "cell_type": "code",
   "execution_count": null,
   "id": "ddec93b6",
   "metadata": {},
   "outputs": [],
   "source": []
  }
 ],
 "metadata": {
  "kernelspec": {
   "display_name": "base",
   "language": "python",
   "name": "python3"
  },
  "language_info": {
   "codemirror_mode": {
    "name": "ipython",
    "version": 3
   },
   "file_extension": ".py",
   "mimetype": "text/x-python",
   "name": "python",
   "nbconvert_exporter": "python",
   "pygments_lexer": "ipython3",
   "version": "3.12.7"
  }
 },
 "nbformat": 4,
 "nbformat_minor": 5
}
