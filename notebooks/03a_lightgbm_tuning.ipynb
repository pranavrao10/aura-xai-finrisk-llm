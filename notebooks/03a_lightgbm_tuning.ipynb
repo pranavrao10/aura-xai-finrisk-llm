{
 "cells": [
  {
   "cell_type": "markdown",
   "id": "e3fe0c7f",
   "metadata": {},
   "source": [
    "# Credit Risk Assessment: LightGBM Model Tuning\n",
    "\n",
    "---"
   ]
  },
  {
   "cell_type": "markdown",
   "id": "f2faec21",
   "metadata": {},
   "source": [
    "### Import Libraries and set Configurations"
   ]
  },
  {
   "cell_type": "code",
   "execution_count": 13,
   "id": "31b208bb",
   "metadata": {},
   "outputs": [],
   "source": [
    "import warnings, json, joblib, optuna, lightgbm as lgb\n",
    "from pathlib import Path\n",
    "from datetime import date\n",
    "import numpy as np\n",
    "import pandas as pd\n",
    "from sklearn.model_selection import TimeSeriesSplit\n",
    "from sklearn.metrics import (\n",
    "    roc_auc_score, average_precision_score, confusion_matrix,\n",
    "    precision_recall_curve, RocCurveDisplay, classification_report, PrecisionRecallDisplay,\n",
    "    precision_score, recall_score, f1_score, roc_curve\n",
    ")\n",
    "from sklearn.calibration import CalibratedClassifierCV\n",
    "from scipy.stats import ks_2samp\n",
    "import matplotlib.pyplot as plt\n",
    "import seaborn as sns\n",
    "\n",
    "warnings.filterwarnings(\"ignore\")\n",
    "data = Path(\"../data/processed\")\n",
    "random_state=42\n",
    "stamp = date.today().isoformat()\n",
    "models = Path(\"../models\")\n",
    "reports = Path(\"../reports\")\n",
    "processed = Path(\"../data/processed\")\n",
    "figs = Path(\"../reports/figs\")"
   ]
  },
  {
   "cell_type": "markdown",
   "id": "d4a8e1c2",
   "metadata": {},
   "source": [
    "### Load Data"
   ]
  },
  {
   "cell_type": "code",
   "execution_count": 2,
   "id": "843ca4d7",
   "metadata": {},
   "outputs": [
    {
     "name": "stdout",
     "output_type": "stream",
     "text": [
      "train (1132562, 186) val (181728, 186) test (68061, 186)\n"
     ]
    }
   ],
   "source": [
    "df = pd.read_parquet(\"../data/processed/lc_cleaned.parquet\")\n",
    "schema = json.load(open(\"../data/processed/feature_schema.json\"))\n",
    "X_train = pd.read_pickle(processed/\"X_train.pkl\")\n",
    "X_val = pd.read_pickle(processed/\"X_val.pkl\")\n",
    "X_test = pd.read_pickle(processed/\"X_test.pkl\")\n",
    "y_train = pd.read_csv(processed/\"y_train.csv\").squeeze(\"columns\").astype(int)\n",
    "y_val = pd.read_csv(processed/\"y_val.csv\").squeeze(\"columns\").astype(int)\n",
    "y_test= pd.read_csv(processed/\"y_test.csv\").squeeze(\"columns\").astype(int)\n",
    "print(\"train\", X_train.shape, \"val\", X_val.shape, 'test', X_test.shape)"
   ]
  },
  {
   "cell_type": "markdown",
   "id": "15658c92",
   "metadata": {},
   "source": [
    "### Preprocessing"
   ]
  },
  {
   "cell_type": "code",
   "execution_count": 3,
   "id": "25dc7d5c",
   "metadata": {},
   "outputs": [
    {
     "name": "stdout",
     "output_type": "stream",
     "text": [
      "LGBM feature order: ['loan_amnt', 'funded_amnt', 'term', 'int_rate', 'installment', 'grade', 'sub_grade', 'emp_length', 'home_ownership', 'annual_inc', 'verification_status', 'purpose', 'dti', 'delinq_2yrs', 'inq_last_6mths', 'mths_since_last_delinq', 'mths_since_last_record', 'open_acc', 'pub_rec', 'revol_bal', 'revol_util', 'total_acc', 'initial_list_status', 'collections_12_mths_ex_med', 'mths_since_last_major_derog', 'application_type', 'annual_inc_joint', 'dti_joint', 'verification_status_joint', 'acc_now_delinq', 'tot_coll_amt', 'tot_cur_bal', 'open_acc_6m', 'open_act_il', 'open_il_12m', 'open_il_24m', 'mths_since_rcnt_il', 'total_bal_il', 'il_util', 'open_rv_12m', 'open_rv_24m', 'max_bal_bc', 'all_util', 'total_rev_hi_lim', 'inq_fi', 'total_cu_tl', 'inq_last_12m', 'acc_open_past_24mths', 'avg_cur_bal', 'bc_open_to_buy', 'bc_util', 'chargeoff_within_12_mths', 'delinq_amnt', 'mo_sin_old_il_acct', 'mo_sin_old_rev_tl_op', 'mo_sin_rcnt_rev_tl_op', 'mo_sin_rcnt_tl', 'mort_acc', 'mths_since_recent_bc', 'mths_since_recent_bc_dlq', 'mths_since_recent_inq', 'mths_since_recent_revol_delinq', 'num_accts_ever_120_pd', 'num_actv_bc_tl', 'num_actv_rev_tl', 'num_bc_sats', 'num_bc_tl', 'num_il_tl', 'num_op_rev_tl', 'num_rev_accts', 'num_rev_tl_bal_gt_0', 'num_sats', 'num_tl_120dpd_2m', 'num_tl_30dpd', 'num_tl_90g_dpd_24m', 'num_tl_op_past_12m', 'pct_tl_nvr_dlq', 'percent_bc_gt_75', 'pub_rec_bankruptcies', 'tax_liens', 'tot_hi_cred_lim', 'total_bal_ex_mort', 'total_bc_limit', 'total_il_high_credit_limit', 'revol_bal_joint', 'sec_app_fico_range_low', 'sec_app_fico_range_high', 'sec_app_earliest_cr_line', 'sec_app_inq_last_6mths', 'sec_app_mort_acc', 'sec_app_open_acc', 'sec_app_revol_util', 'sec_app_open_act_il', 'sec_app_num_rev_accts', 'sec_app_chargeoff_within_12_mths', 'sec_app_collections_12_mths_ex_med', 'sec_app_mths_since_last_major_derog', 'payment_plan_start_date', 'orig_projected_additional_accrued_interest', 'disbursement_method', 'all_util_missing', 'annual_inc_joint_missing', 'avg_cur_bal_missing', 'bc_open_to_buy_missing', 'bc_util_missing', 'deferral_term_missing', 'dti_joint_missing', 'emp_length_missing', 'il_util_missing', 'inq_fi_missing', 'inq_last_12m_missing', 'max_bal_bc_missing', 'mo_sin_old_il_acct_missing', 'mo_sin_old_rev_tl_op_missing', 'mo_sin_rcnt_rev_tl_op_missing', 'mo_sin_rcnt_tl_missing', 'mths_since_last_delinq_missing', 'mths_since_last_major_derog_missing', 'mths_since_last_record_missing', 'mths_since_rcnt_il_missing', 'mths_since_recent_bc_missing', 'mths_since_recent_bc_dlq_missing', 'mths_since_recent_inq_missing', 'mths_since_recent_revol_delinq_missing', 'next_pymnt_d_missing', 'num_accts_ever_120_pd_missing', 'num_actv_bc_tl_missing', 'num_actv_rev_tl_missing', 'num_bc_sats_missing', 'num_bc_tl_missing', 'num_il_tl_missing', 'num_op_rev_tl_missing', 'num_rev_accts_missing', 'num_rev_tl_bal_gt_0_missing', 'num_sats_missing', 'num_tl_120dpd_2m_missing', 'num_tl_30dpd_missing', 'num_tl_90g_dpd_24m_missing', 'num_tl_op_past_12m_missing', 'open_acc_6m_missing', 'open_act_il_missing', 'open_il_12m_missing', 'open_il_24m_missing', 'open_rv_12m_missing', 'open_rv_24m_missing', 'orig_projected_additional_accrued_interest_missing', 'payment_plan_start_date_missing', 'pct_tl_nvr_dlq_missing', 'percent_bc_gt_75_missing', 'revol_bal_joint_missing', 'sec_app_chargeoff_within_12_mths_missing', 'sec_app_collections_12_mths_ex_med_missing', 'sec_app_earliest_cr_line_missing', 'sec_app_fico_range_high_missing', 'sec_app_fico_range_low_missing', 'sec_app_inq_last_6mths_missing', 'sec_app_mort_acc_missing', 'sec_app_mths_since_last_major_derog_missing', 'sec_app_num_rev_accts_missing', 'sec_app_open_acc_missing', 'sec_app_open_act_il_missing', 'sec_app_revol_util_missing', 'tot_coll_amt_missing', 'tot_cur_bal_missing', 'tot_hi_cred_lim_missing', 'total_bal_il_missing', 'total_cu_tl_missing', 'total_il_high_credit_limit_missing', 'total_rev_hi_lim_missing', 'verification_status_joint_missing', 'credit_age_months', 'loan_to_income', 'installment_to_income', 'fico_mid', 'fico_spread', 'rev_util_ratio', 'dti_inv', 'inq_ratio', 'int_minus_subgrade_mean', 'grade_term', 'purpose_emp_len', 'fico_mid_sq', 'log_loan_sq']\n",
      "LGBM train shape: (1132562, 183)\n",
      "LGBM validation shape: (181728, 183)\n",
      "LGBM test shape: (68061, 183)\n"
     ]
    }
   ],
   "source": [
    "dt_cols = X_train.select_dtypes(\"datetime64[ns]\").columns          \n",
    "X_train = X_train.drop(columns=dt_cols)\n",
    "X_val = X_val.drop(columns=dt_cols)\n",
    "X_test= X_test.drop(columns=dt_cols)\n",
    "\n",
    "cat_feats = X_train.select_dtypes(\"category\").columns.tolist()\n",
    "feature_list = X_train.columns.tolist()\n",
    "pd.Series(feature_list).to_csv(models / \"lgbm_feature_order.csv\", index=False)\n",
    "print(\"LGBM feature order:\", feature_list)\n",
    "print(\"LGBM train shape:\", X_train.shape)\n",
    "print(\"LGBM validation shape:\", X_val.shape)\n",
    "print(\"LGBM test shape:\", X_test.shape)"
   ]
  },
  {
   "cell_type": "markdown",
   "id": "c5fc627e",
   "metadata": {},
   "source": [
    "### Metrics"
   ]
  },
  {
   "cell_type": "code",
   "execution_count": 4,
   "id": "583138f8",
   "metadata": {},
   "outputs": [],
   "source": [
    "def ks_score(y, p): return ks_2samp(p[y==0], p[y==1]).statistic\n",
    "def profit_curve(y, p, gain_tp=.80, cost_fp=.10):\n",
    "    prec, rec, thr = precision_recall_curve(y, p)\n",
    "    tp = rec*y.sum(); fp = (tp/np.clip(prec,1e-9,1))-tp\n",
    "    prof = (gain_tp*tp - cost_fp*fp)/len(y)\n",
    "    idx = prof.argmax(); return float(thr[idx]), float(prof[idx])\n",
    "def best_f1(y,p):\n",
    "    prec, rec, thr = precision_recall_curve(y,p)\n",
    "    f1 = 2*prec*rec/(prec+rec+1e-12); return float(thr[f1.argmax()])\n",
    "def metrics(y, p, thr):\n",
    "    ŷ = (p>thr).astype(int)\n",
    "    return dict(AUC=roc_auc_score(y,p),\n",
    "                PR_AUC=average_precision_score(y,p),\n",
    "                KS=ks_score(y,p),\n",
    "                Precision=precision_score(y,ŷ),\n",
    "                Recall=recall_score(y,ŷ),\n",
    "                ConfMatrix=confusion_matrix(y,ŷ).tolist(),\n",
    "                ClassReport=classification_report(y,ŷ,digits=3,zero_division=0))"
   ]
  },
  {
   "cell_type": "markdown",
   "id": "da1f4052",
   "metadata": {},
   "source": [
    "### Monotonic Constraints"
   ]
  },
  {
   "cell_type": "code",
   "execution_count": 9,
   "id": "47847ea5",
   "metadata": {},
   "outputs": [],
   "source": [
    "feature_list = X_train.columns.tolist()\n",
    "monotone = False       \n",
    "if monotone:\n",
    "    monotone_map = {\n",
    "        \"fico_mid\": 1,\n",
    "        \"loan_to_income\": -1,\n",
    "        \"installment_to_income\": -1,\n",
    "        \"dti\": -1,\n",
    "        \"int_rate\": -1,\n",
    "        \"credit_age_months\": 1\n",
    "    }\n",
    "    mono_vec = [monotone_map.get(f, 0) for f in feature_list]\n",
    "else:\n",
    "    mono_vec = [0] * len(feature_list)      \n",
    "\n",
    "assert len(mono_vec) == len(feature_list), \"Monotone vector length mismatch\""
   ]
  },
  {
   "cell_type": "markdown",
   "id": "6c2d5bfa",
   "metadata": {},
   "source": [
    "### Tune LightGBM Model"
   ]
  },
  {
   "cell_type": "code",
   "execution_count": 17,
   "id": "2d0fbc9e",
   "metadata": {},
   "outputs": [
    {
     "name": "stdout",
     "output_type": "stream",
     "text": [
      "Resuming study – 202 trials loaded\n",
      "Study complete (202 trials).\n"
     ]
    }
   ],
   "source": [
    "model_version = \"v1\"\n",
    "lgbm_path = models / f\"lgbm_calibrated_{model_version}.joblib\"\n",
    "params_path = models / f\"params_lightgbm_{model_version}.json\"\n",
    "study_pkl = models / \"optuna_lgbm_v1.pkl\"\n",
    "max_trials=200\n",
    "\n",
    "def checkpoint(study, trial):\n",
    "        if trial.number % 2 == 0:\n",
    "            study_pkl.parent.mkdir(parents=True, exist_ok=True)\n",
    "            joblib.dump(study, study_pkl)\n",
    "            print(f\"checkpoint saved at trial {trial.number}\")\n",
    "\n",
    "if study_pkl.exists():\n",
    "    study = joblib.load(study_pkl)\n",
    "    print(f\"Resuming study – {len(study.trials)} trials loaded\")\n",
    "    if len(study.trials) >= max_trials:\n",
    "        print(f\"Study complete ({len(study.trials)} trials).\")\n",
    "        run_tuning = False\n",
    "    else:\n",
    "        run_tuning = True\n",
    "elif lgbm_path.exists():\n",
    "    print(\"Using cached LightGBM:\", lgbm_path.name)\n",
    "    cal = joblib.load(lgbm_path)\n",
    "    run_tuning = False\n",
    "else:\n",
    "    study = optuna.create_study(\n",
    "    direction=\"maximize\",\n",
    "    sampler=optuna.samplers.TPESampler(seed=random_state, multivariate=True),\n",
    "    pruner =optuna.pruners.MedianPruner(n_warmup_steps=10)\n",
    "    )\n",
    "    study.enqueue_trial({\n",
    "        \"learning_rate\":0.05, \"num_leaves\":31, \"max_depth\":-1,\n",
    "        \"min_child_samples\":200, \"min_child_weight\":1e-3,\n",
    "        \"feature_fraction\":0.9, \"bagging_fraction\":0.9,\"bagging_freq\":1,\n",
    "        \"reg_alpha\":1e-3,\"reg_lambda\":1e-3, \"scale_pos_weight\": (y_train==0).sum()/(y_train==1).sum()\n",
    "    })\n",
    "    print(\"New study created\")\n",
    "    run_tuning = True\n",
    "\n",
    "if run_tuning:\n",
    "    tscv_inner = TimeSeriesSplit(n_splits=3)\n",
    "    def objective(trial):\n",
    "        params = {\n",
    "            \"objective\" :\"binary\",\n",
    "            \"metric\": \"auc\",\n",
    "            \"boosting_type\": \"gbdt\",\n",
    "            \"verbosity\": -1, \n",
    "            \"learning_rate\":trial.suggest_float(\"learning_rate\", 0.02, 0.07, log=True),\n",
    "            \"num_leaves\":trial.suggest_int(\"num_leaves\", 31, 1023, log=True),\n",
    "            \"max_depth\": trial.suggest_categorical(\"max_depth\", [-1, 7, 9, 11]),\n",
    "            \"min_child_samples\": trial.suggest_int(\"min_child_samples\", 50, 400),\n",
    "            \"min_child_weight\": trial.suggest_float(\"min_child_weight\", 1e-3, 10.0, log=True), \n",
    "            \"min_gain_to_split\": trial.suggest_float(\"min_gain_to_split\", 1e-4, 0.05, log=True),\n",
    "            \"reg_alpha\": trial.suggest_float(\"reg_alpha\", 1e-3, 10.0, log=True),\n",
    "            \"reg_lambda\": trial.suggest_float(\"reg_lambda\", 1e-3, 10.0, log=True),\n",
    "            \"feature_fraction\": trial.suggest_float(\"feature_fraction\", 0.7, 1.0),\n",
    "            \"bagging_fraction\": trial.suggest_float(\"bagging_fraction\", 0.7, 1.0),\n",
    "            \"bagging_freq\": trial.suggest_int(\"bagging_freq\", 1, 6),      \n",
    "            \"monotone_constraints\": mono_vec,\n",
    "            \"force_col_wise\":True,\n",
    "            \"max_cat_threshold\": 64,\n",
    "            \"random_state\":random_state,\n",
    "            \"scale_pos_weight\": (y_train==0).sum()/(y_train==1).sum(),\n",
    "            \"n_jobs\": -1,\n",
    "            \"n_estimators\": 4000          \n",
    "        }    \n",
    "        aucs=[]\n",
    "        for tr, va in tscv_inner.split(X_train, y_train):\n",
    "            model = lgb.LGBMClassifier(**params)\n",
    "            model.fit(\n",
    "                X_train.iloc[tr], y_train.iloc[tr],\n",
    "                eval_set=[(X_train.iloc[va], y_train.iloc[va])],\n",
    "                eval_metric=\"auc\",\n",
    "                categorical_feature=cat_feats,\n",
    "                callbacks=[lgb.early_stopping(200, verbose=False)])\n",
    "            preds = model.predict_proba(X_train.iloc[va])[:, 1]\n",
    "            aucs.append(roc_auc_score(y_train.iloc[va], preds))\n",
    "\n",
    "        return float(np.mean(aucs))\n",
    "    \n",
    "    try:\n",
    "        study.optimize(objective, n_trials=200, n_jobs=1, timeout=8*3600, callbacks=[checkpoint], show_progress_bar=True)\n",
    "    finally:\n",
    "        joblib.dump(study, study_pkl)\n",
    "    print(\"Best AUC so far:\", study.best_value, \"after\", len(study.trials), \"trials\")\n",
    "    best_params = study.best_params | {\n",
    "    \"objective\":\"binary\", \"metric\":\"auc\", \"force_col_wise\":True,\n",
    "    \"max_cat_threshold\": 64,\"monotone_constraints\": mono_vec,\n",
    "    \"scale_pos_weight\": (y_train==0).sum()/(y_train==1).sum(),\n",
    "    \"seed\": random_state\n",
    "    }\n",
    "    lgbm = lgb.LGBMClassifier(**best_params)\n",
    "    \n",
    "    lgbm.fit(\n",
    "        X_train, y_train,\n",
    "        eval_set=[(X_val, y_val)],\n",
    "        eval_metric=\"auc\",\n",
    "        categorical_feature=cat_feats,\n",
    "        callbacks=[lgb.early_stopping(200, verbose=False)]\n",
    "    )\n",
    "\n",
    "    cal = CalibratedClassifierCV(lgbm, method=\"sigmoid\", cv=\"prefit\").fit(X_val, y_val)\n",
    "    joblib.dump(cal, lgbm_path)\n",
    "    with open(params_path,\"w\") as fp: json.dump(best_params, fp, indent=2)\n",
    "    pd.DataFrame({'feature': feature_list, 'monotonicity': mono_vec}).to_csv(models / f\"monotonic_constraints_{model_version}.csv\", index=False)\n",
    "    study.trials_dataframe().to_csv(models / f\"optuna_trials_lightgbm_{model_version}.csv\", index=False)"
   ]
  },
  {
   "cell_type": "markdown",
   "id": "adaaa3a1",
   "metadata": {},
   "source": [
    "### Model Evaluation - Train/Test"
   ]
  },
  {
   "cell_type": "code",
   "execution_count": 16,
   "id": "9e8d3079",
   "metadata": {},
   "outputs": [
    {
     "name": "stdout",
     "output_type": "stream",
     "text": [
      "Markdown metrics written to metrics_lgbm_trainval_v1.md\n",
      "=== TRAIN (F1-opt) ===\n",
      "               precision    recall  f1-score   support\n",
      "\n",
      "           0      0.879     0.725     0.794    901143\n",
      "           1      0.363     0.611     0.456    231419\n",
      "\n",
      "    accuracy                          0.702   1132562\n",
      "   macro avg      0.621     0.668     0.625   1132562\n",
      "weighted avg      0.774     0.702     0.725   1132562\n",
      "\n",
      "\n",
      "=== VALID (profit-opt) ===\n",
      "               precision    recall  f1-score   support\n",
      "\n",
      "           0      0.935     0.218     0.354    130152\n",
      "           1      0.328     0.962     0.489     51576\n",
      "\n",
      "    accuracy                          0.429    181728\n",
      "   macro avg      0.632     0.590     0.421    181728\n",
      "weighted avg      0.763     0.429     0.392    181728\n",
      "\n",
      "\n",
      "=== VALID (F1-opt) ===\n",
      "               precision    recall  f1-score   support\n",
      "\n",
      "           0      0.843     0.746     0.792    130152\n",
      "           1      0.503     0.650     0.568     51576\n",
      "\n",
      "    accuracy                          0.719    181728\n",
      "   macro avg      0.673     0.698     0.680    181728\n",
      "weighted avg      0.747     0.719     0.728    181728\n",
      "\n"
     ]
    }
   ],
   "source": [
    "p_train = cal.predict_proba(X_train)[:,1]\n",
    "p_val = cal.predict_proba(X_val)[:,1]\n",
    "\n",
    "thr_profit_val,_ = profit_curve(y_val,p_val)\n",
    "thr_f1_val = best_f1(y_val,p_val)\n",
    "thr_f1_train = best_f1(y_train,p_train)\n",
    "\n",
    "m_train = metrics(y_train,p_train,thr_f1_train)\n",
    "m_val_p = metrics(y_val,p_val,thr_profit_val)\n",
    "m_val_f = metrics(y_val,p_val,thr_f1_val)\n",
    "\n",
    "md_path = reports / f\"metrics_lgbm_trainval_{model_version}.md\"\n",
    "with open(md_path, \"w\") as f:\n",
    "    f.write(f\"# LightGBM – {model_version}\\n\")\n",
    "    f.write(f\"*Date generated:* {date.today().isoformat()}\\n\\n\")\n",
    "\n",
    "    # ----------- thresholds ---------------------------------------\n",
    "    f.write(\"## Thresholds chosen\\n\")\n",
    "    f.write(\"| Split | F1-opt | Profit-opt |\\n\")\n",
    "    f.write(\"|-------|-------:|-----------:|\\n\")\n",
    "    f.write(f\"| Train | {thr_f1_train:.3f} | – |\\n\")\n",
    "    f.write(f\"| Val   | {thr_f1_val:.3f} | {thr_profit_val:.3f} |\\n\\n\")\n",
    "\n",
    "    # ----------- TRAIN (F1-optimised) -----------------------------\n",
    "    f.write(\"## Train (F1-optimised)\\n\")\n",
    "    f.write(f\"- **AUC:** `{m_train['AUC']:.4f}`  \\n\")\n",
    "    f.write(f\"- **PR-AUC:** `{m_train['PR_AUC']:.4f}`  \\n\")\n",
    "    f.write(f\"- **KS:** `{m_train['KS']:.4f}`  \\n\\n\")\n",
    "    f.write(\"```text\\n\" + m_train[\"ClassReport\"] + \"\\n```\\n\\n\")\n",
    "\n",
    "    # ----------- VALIDATION – F1 ----------------------------------\n",
    "    f.write(\"## Validation (F1-optimised)\\n\")\n",
    "    f.write(f\"- **AUC:** `{m_val_f['AUC']:.4f}`  \\n\")\n",
    "    f.write(f\"- **PR-AUC:** `{m_val_f['PR_AUC']:.4f}`  \\n\")\n",
    "    f.write(f\"- **KS:** `{m_val_f['KS']:.4f}`  \\n\\n\")\n",
    "    f.write(\"```text\\n\" + m_val_f[\"ClassReport\"] + \"\\n```\\n\\n\")\n",
    "\n",
    "    # ----------- VALIDATION – Profit ------------------------------\n",
    "    f.write(\"## Validation (Profit-optimised)\\n\")\n",
    "    f.write(f\"- **AUC:** `{m_val_p['AUC']:.4f}`  \\n\")\n",
    "    f.write(f\"- **PR-AUC:** `{m_val_p['PR_AUC']:.4f}`  \\n\")\n",
    "    f.write(f\"- **KS:** `{m_val_p['KS']:.4f}`  \\n\\n\")\n",
    "    f.write(\"```text\\n\" + m_val_p[\"ClassReport\"] + \"\\n```\\n\")\n",
    "\n",
    "print(\"Markdown metrics written to\", md_path.relative_to(reports))\n",
    "\n",
    "print(\"=== TRAIN (F1-opt) ===\\n\",m_train[\"ClassReport\"])\n",
    "print(\"\\n=== VALID (profit-opt) ===\\n\",m_val_p[\"ClassReport\"])\n",
    "print(\"\\n=== VALID (F1-opt) ===\\n\",m_val_f[\"ClassReport\"])"
   ]
  },
  {
   "cell_type": "markdown",
   "id": "c19282fd",
   "metadata": {},
   "source": [
    "### Model Evaluation - Test"
   ]
  },
  {
   "cell_type": "code",
   "execution_count": 20,
   "id": "186e7931",
   "metadata": {},
   "outputs": [
    {
     "name": "stdout",
     "output_type": "stream",
     "text": [
      "\n",
      "=== TEST (profit-opt) ===\n",
      "               precision    recall  f1-score   support\n",
      "\n",
      "           0      0.936     0.409     0.569     47444\n",
      "           1      0.407     0.935     0.568     20617\n",
      "\n",
      "    accuracy                          0.568     68061\n",
      "   macro avg      0.671     0.672     0.568     68061\n",
      "weighted avg      0.776     0.568     0.569     68061\n",
      "\n",
      "\n",
      "=== TEST (F1-opt) ===\n",
      "               precision    recall  f1-score   support\n",
      "\n",
      "           0      0.851     0.976     0.909     47444\n",
      "           1      0.916     0.606     0.729     20617\n",
      "\n",
      "    accuracy                          0.864     68061\n",
      "   macro avg      0.884     0.791     0.819     68061\n",
      "weighted avg      0.871     0.864     0.855     68061\n",
      "\n",
      "ROC, PR, KS, and Profit curves saved\n",
      "Markdown metrics written to metrics_lgbm_test_v1.md\n"
     ]
    },
    {
     "data": {
      "image/png": "[encoded data removed]",
      "text/plain": [
       "<Figure size 640x480 with 1 Axes>"
      ]
     },
     "metadata": {},
     "output_type": "display_data"
    },
    {
     "data": {
      "image/png": "[encoded data removed]",
      "text/plain": [
       "<Figure size 640x480 with 1 Axes>"
      ]
     },
     "metadata": {},
     "output_type": "display_data"
    }
   ],
   "source": [
    "if __name__ == \"__main__\":\n",
    "    p_test = cal.predict_proba(X_test)[:,1]\n",
    "    thr_profit_test,_ = profit_curve(y_test,p_test)\n",
    "    thr_f1_test = best_f1(y_test,p_test)\n",
    "\n",
    "    m_test_p = metrics(y_test,p_test,thr_profit_test)\n",
    "    m_test_f = metrics(y_test,p_test,thr_f1_test)\n",
    "\n",
    "    print(\"\\n=== TEST (profit-opt) ===\\n\",m_test_p[\"ClassReport\"])\n",
    "    print(\"\\n=== TEST (F1-opt) ===\\n\",m_test_f[\"ClassReport\"])\n",
    "\n",
    "    RocCurveDisplay.from_predictions(y_test,p_test,name=\"LGBM\").figure_.savefig(figs/f\"roc_lgbm_test_{model_version}.png\",dpi=300)\n",
    "    PrecisionRecallDisplay.from_predictions(y_test,p_test,name=\"LGBM\").figure_.savefig(figs/f\"pr_lgbm_test_{model_version}.png\",dpi=300)\n",
    "    fpr, tpr, thr_roc = roc_curve(y_test, p_test)\n",
    "    ks = tpr - fpr\n",
    "    fig, ax = plt.subplots(figsize=(6,4))\n",
    "    ax.plot(thr_roc, tpr, label=\"TPR\")\n",
    "    ax.plot(thr_roc, fpr, label=\"FPR\")\n",
    "    ax.plot(thr_roc, ks,  label=f\"KS = {ks.max():.3f}\")\n",
    "    ax.set_xlabel(\"Threshold\"); ax.set_ylabel(\"Rate\")\n",
    "    ax.set_title(\"KS Chart\")\n",
    "    ax.legend()\n",
    "    fig.tight_layout()\n",
    "    fig.savefig(figs / f\"ks_lgbm_test_{model_version}.png\", dpi=300)\n",
    "    plt.close(fig)\n",
    "\n",
    "    md_path = reports / f\"metrics_lgbm_test_{model_version}.md\"\n",
    "    with open(md_path, \"w\") as f:\n",
    "        f.write(f\"# LightGBM – Test metrics ({model_version})\\n\")\n",
    "        f.write(f\"*Date generated:* {date.today().isoformat()}\\n\\n\")\n",
    "\n",
    "        f.write(\"## Thresholds\\n\")\n",
    "        f.write(\"| Optimisation | Threshold |\\n\")\n",
    "        f.write(\"|--------------|-----------:|\\n\")\n",
    "        f.write(f\"| F1           | {thr_f1_test:.3f} |\\n\")\n",
    "        f.write(f\"| Profit       | {thr_profit_test:.3f} |\\n\\n\")\n",
    "\n",
    "        # F1-optimised block\n",
    "        f.write(\"### Test (F1-optimised)\\n\")\n",
    "        f.write(f\"- **AUC:** `{m_test_f['AUC']:.4f}`  \\n\")\n",
    "        f.write(f\"- **PR-AUC:** `{m_test_f['PR_AUC']:.4f}`  \\n\")\n",
    "        f.write(f\"- **KS:** `{m_test_f['KS']:.4f}`  \\n\\n\")\n",
    "        f.write(\"```text\\n\" + m_test_f[\"ClassReport\"] + \"\\n```\\n\\n\")\n",
    "\n",
    "        # Profit-optimised block\n",
    "        f.write(\"### Test (Profit-optimised)\\n\")\n",
    "        f.write(f\"- **AUC:** `{m_test_p['AUC']:.4f}`  \\n\")\n",
    "        f.write(f\"- **PR-AUC:** `{m_test_p['PR_AUC']:.4f}`  \\n\")\n",
    "        f.write(f\"- **KS:** `{m_test_p['KS']:.4f}`  \\n\\n\")\n",
    "        f.write(\"```text\\n\" + m_test_p[\"ClassReport\"] + \"\\n```\\n\")\n",
    "\n",
    "    print(\"ROC, PR, KS, and Profit curves saved\")\n",
    "    print(\"Markdown metrics written to\", md_path.relative_to(reports))\n"
   ]
  },
  {
   "cell_type": "code",
   "execution_count": null,
   "id": "b923c51a",
   "metadata": {},
   "outputs": [],
   "source": []
  }
 ],
 "metadata": {
  "kernelspec": {
   "display_name": "base",
   "language": "python",
   "name": "python3"
  },
  "language_info": {
   "codemirror_mode": {
    "name": "ipython",
    "version": 3
   },
   "file_extension": ".py",
   "mimetype": "text/x-python",
   "name": "python",
   "nbconvert_exporter": "python",
   "pygments_lexer": "ipython3",
   "version": "3.12.7"
  }
 },
 "nbformat": 4,
 "nbformat_minor": 5
}
