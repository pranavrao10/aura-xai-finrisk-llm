{
 "cells": [
  {
   "cell_type": "markdown",
   "id": "0d6d6d22",
   "metadata": {},
   "source": [
    "# Credit Risk Assessment: SHAP Analysis\n",
    "\n",
    "---"
   ]
  },
  {
   "cell_type": "code",
   "execution_count": 1,
   "id": "04233c98",
   "metadata": {},
   "outputs": [],
   "source": [
    "from aura.utils.pathing import models, reports, root\n",
    "import joblib\n",
    "import shap \n",
    "import numpy as np\n",
    "import pandas as pd\n",
    "import matplotlib.pyplot as plt\n",
    "from pathlib import Path\n",
    "from datetime import date\n",
    "from scipy import sparse\n",
    "import warnings\n",
    "warnings.filterwarnings(\"ignore\")\n",
    "stamp=date.today().isoformat()\n",
    "data = Path(\"../data/processed\")"
   ]
  },
  {
   "cell_type": "markdown",
   "id": "4a0eef68",
   "metadata": {},
   "source": [
    "### SHAP Analysis"
   ]
  },
  {
   "cell_type": "code",
   "execution_count": 2,
   "id": "5862e8a6",
   "metadata": {},
   "outputs": [
    {
     "name": "stdout",
     "output_type": "stream",
     "text": [
      "Using cached SHAP artefacts\n"
     ]
    }
   ],
   "source": [
    "shap_idx_path = models/\"shap_topidx_v1.joblib\"\n",
    "if shap_idx_path.exists():\n",
    "    print(\"Using cached SHAP artefacts\"); top_idx = joblib.load(shap_idx_path)\n",
    "else:\n",
    "    gbm = joblib.load(models/\"lgbm_v1.joblib\")\n",
    "    Xtrain= sparse.load_npz(data/\"X_train.npz\").toarray()\n",
    "    pre= joblib.load(data/\"preprocessor.joblib\")\n",
    "    feats = pre.get_feature_names_out()\n",
    "\n",
    "    explainer = shap.TreeExplainer(gbm)\n",
    "    shap_vals = explainer.shap_values(Xtrain, check_additivity=False)\n",
    "    if isinstance(shap_vals,list): shap_vals=shap_vals[0]\n",
    "\n",
    "    top_idx = np.argsort(np.abs(shap_vals).mean(0))[::-1][:50]\n",
    "    joblib.dump(top_idx, shap_idx_path)\n",
    "    np.savez_compressed(models/\"shap_vals_train.npz\", shap_vals=shap_vals.astype(\"float32\"))\n",
    "\n",
    "    shap.summary_plot(shap_vals, Xtrain, feature_names=feats,\n",
    "                      max_display=50, show=False)\n",
    "    plt.savefig(reports/\"figs/shap_summary_lig htgbm.png\", dpi=300, bbox_inches=\"tight\")\n",
    "    pd.Series(np.abs(shap_vals).mean(0)[top_idx], index=feats[top_idx])\\\n",
    "      .to_csv(reports/\"top_drivers.csv\")\n",
    "\n",
    "    print(\"SHAP artefacts saved\")"
   ]
  },
  {
   "cell_type": "markdown",
   "id": "e4219ac6",
   "metadata": {},
   "source": [
    "### All Features and their Importances"
   ]
  },
  {
   "cell_type": "code",
   "execution_count": 10,
   "id": "edf791d1",
   "metadata": {},
   "outputs": [
    {
     "name": "stdout",
     "output_type": "stream",
     "text": [
      "num__last_fico_range_high: 1.0935\n",
      "num__last_fico_range_low: 0.3947\n",
      "cat__term_ 36 months: 0.0923\n",
      "cat__debt_settlement_flag_N: 0.0785\n",
      "num__emp_length_na: 0.0410\n",
      "ord__grade: 0.0365\n",
      "num__loan_to_income: 0.0358\n",
      "cat__debt_settlement_flag_Y: 0.0277\n",
      "num__int_rate: 0.0244\n",
      "ord__sub_grade: 0.0240\n",
      "cat__term_ 60 months: 0.0234\n",
      "ord__emp_length: 0.0232\n",
      "num__installment_to_income: 0.0219\n",
      "num__mo_sin_old_rev_tl_op: 0.0142\n",
      "num__fico_range_high: 0.0130\n",
      "num__dti: 0.0124\n",
      "num__total_rev_hi_lim: 0.0112\n",
      "num__acc_open_past_24mths_na: 0.0097\n",
      "num__installment: 0.0080\n",
      "num__total_acc: 0.0072\n",
      "num__funded_amnt: 0.0070\n",
      "num__loan_amnt: 0.0068\n",
      "num__fico_range_low: 0.0066\n",
      "num__avg_cur_bal: 0.0062\n",
      "num__bc_open_to_buy: 0.0060\n",
      "num__mort_acc_na: 0.0049\n",
      "num__funded_amnt_inv: 0.0047\n",
      "num__num_rev_accts: 0.0047\n",
      "num__pct_tl_nvr_dlq: 0.0039\n",
      "num__pct_tl_nvr_dlq_na: 0.0035\n",
      "num__mo_sin_old_rev_tl_op_na: 0.0032\n",
      "num__acc_open_past_24mths: 0.0031\n",
      "cat__verification_status_Not Verified: 0.0030\n",
      "num__mort_acc: 0.0024\n",
      "cat__home_ownership_MORTGAGE: 0.0018\n",
      "num__tot_cur_bal: 0.0018\n",
      "num__num_bc_tl: 0.0016\n",
      "cat__home_ownership_RENT: 0.0014\n",
      "num__mo_sin_rcnt_rev_tl_op_na: 0.0014\n",
      "num__annual_inc: 0.0012\n",
      "num__avg_cur_bal_na: 0.0011\n",
      "num__revol_util: 0.0011\n",
      "num__total_bal_ex_mort_na: 0.0011\n",
      "num__num_bc_sats_na: 0.0009\n",
      "num__total_bc_limit: 0.0008\n",
      "num__bc_util: 0.0008\n",
      "num__mo_sin_rcnt_tl_na: 0.0006\n",
      "num__percent_bc_gt_75: 0.0006\n",
      "num__mo_sin_old_il_acct_na: 0.0006\n",
      "num__num_actv_rev_tl: 0.0006\n",
      "num__num_il_tl: 0.0005\n",
      "num__pub_rec_bankruptcies: 0.0004\n",
      "num__num_actv_bc_tl: 0.0004\n",
      "num__total_bc_limit_na: 0.0003\n",
      "num__mths_since_recent_inq: 0.0003\n",
      "num__mths_since_recent_bc_na: 0.0003\n",
      "cat__home_ownership_OWN: 0.0002\n",
      "num__percent_bc_gt_75_na: 0.0002\n",
      "num__num_accts_ever_120_pd_na: 0.0002\n",
      "num__pub_rec: 0.0002\n",
      "num__total_il_high_credit_limit: 0.0002\n",
      "num__num_tl_120dpd_2m_na: 0.0002\n",
      "num__revol_bal: 0.0002\n",
      "num__tot_hi_cred_lim: 0.0002\n",
      "num__num_sats_na: 0.0002\n",
      "num__num_rev_tl_bal_gt_0: 0.0001\n",
      "num__open_acc: 0.0001\n",
      "num__total_bal_ex_mort: 0.0001\n",
      "cat__purpose_small_business: 0.0001\n",
      "num__num_actv_bc_tl_na: 0.0001\n",
      "num__inq_last_6mths: 0.0001\n",
      "cat__verification_status_Source Verified: 0.0001\n",
      "num__num_op_rev_tl: 0.0001\n",
      "num__num_sats: 0.0001\n",
      "num__mo_sin_rcnt_tl: 0.0001\n",
      "num__delinq_2yrs: 0.0001\n",
      "num__tot_coll_amt: 0.0000\n",
      "cat__verification_status_Verified: 0.0000\n",
      "num__num_tl_op_past_12m: 0.0000\n",
      "cat__disbursement_method_Cash: 0.0000\n",
      "cat__disbursement_method_DirectPay: 0.0000\n",
      "cat__home_ownership_ANY: 0.0000\n",
      "num__credit_age_months: 0.0000\n",
      "num__collections_12_mths_ex_med_na: 0.0000\n",
      "num__collections_12_mths_ex_med: 0.0000\n",
      "cat__home_ownership_infrequent_sklearn: 0.0000\n",
      "cat__purpose_car: 0.0000\n",
      "cat__purpose_credit_card: 0.0000\n",
      "cat__purpose_debt_consolidation: 0.0000\n",
      "cat__purpose_educational: 0.0000\n",
      "num__delinq_amnt: 0.0000\n",
      "cat__purpose_home_improvement: 0.0000\n",
      "cat__purpose_major_purchase: 0.0000\n",
      "cat__purpose_medical: 0.0000\n",
      "cat__purpose_moving: 0.0000\n",
      "cat__purpose_other: 0.0000\n",
      "cat__purpose_renewable_energy: 0.0000\n",
      "num__chargeoff_within_12_mths_na: 0.0000\n",
      "cat__purpose_vacation: 0.0000\n",
      "cat__purpose_wedding: 0.0000\n",
      "num__chargeoff_within_12_mths: 0.0000\n",
      "num__bc_util_na: 0.0000\n",
      "num__bc_open_to_buy_na: 0.0000\n",
      "cat__purpose_house: 0.0000\n",
      "num__dti_na: 0.0000\n",
      "num__inq_last_6mths_na: 0.0000\n",
      "num__mo_sin_old_il_acct: 0.0000\n",
      "num__num_tl_90g_dpd_24m_na: 0.0000\n",
      "num__num_tl_90g_dpd_24m: 0.0000\n",
      "num__num_tl_30dpd_na: 0.0000\n",
      "num__pub_rec_bankruptcies_na: 0.0000\n",
      "num__num_tl_30dpd: 0.0000\n",
      "num__num_tl_120dpd_2m: 0.0000\n",
      "num__revol_util_na: 0.0000\n",
      "num__tax_liens: 0.0000\n",
      "num__tax_liens_na: 0.0000\n",
      "num__num_rev_tl_bal_gt_0_na: 0.0000\n",
      "num__tot_coll_amt_na: 0.0000\n",
      "num__num_rev_accts_na: 0.0000\n",
      "num__tot_cur_bal_na: 0.0000\n",
      "num__num_op_rev_tl_na: 0.0000\n",
      "num__tot_hi_cred_lim_na: 0.0000\n",
      "num__num_il_tl_na: 0.0000\n",
      "num__num_bc_tl_na: 0.0000\n",
      "num__num_bc_sats: 0.0000\n",
      "num__num_actv_rev_tl_na: 0.0000\n",
      "num__num_accts_ever_120_pd: 0.0000\n",
      "num__mths_since_recent_inq_na: 0.0000\n",
      "num__total_il_high_credit_limit_na: 0.0000\n",
      "num__mths_since_recent_bc: 0.0000\n",
      "num__total_rev_hi_lim_na: 0.0000\n",
      "num__mo_sin_rcnt_rev_tl_op: 0.0000\n",
      "num__num_tl_op_past_12m_na: 0.0000\n",
      "num__acc_now_delinq: 0.0000\n"
     ]
    }
   ],
   "source": [
    "all_importances = np.abs(shap_vals).mean(0)\n",
    "sorted_idx = np.argsort(-all_importances) \n",
    "sorted_names = np.array(feats)[sorted_idx]\n",
    "sorted_importances = all_importances[sorted_idx]\n",
    "\n",
    "for name, imp in zip(sorted_names, sorted_importances):\n",
    "    print(f\"{name}: {imp:.4f}\")"
   ]
  },
  {
   "cell_type": "markdown",
   "id": "8d38e9ff",
   "metadata": {},
   "source": [
    "### Extract Top Features"
   ]
  },
  {
   "cell_type": "code",
   "execution_count": 12,
   "id": "1bbb2496",
   "metadata": {},
   "outputs": [
    {
     "name": "stdout",
     "output_type": "stream",
     "text": [
      "[0.59159273 0.80512876 0.85506384 0.897533   0.91971435 0.93946116\n",
      " 0.95882926 0.97381519 0.9870158  1.        ]\n"
     ]
    }
   ],
   "source": [
    "vals = np.array([1.0935, 0.3947, 0.0923, 0.0785, 0.0410, 0.0365, 0.0358, 0.0277, 0.0244, 0.0240])\n",
    "total = vals.sum()\n",
    "cumsum = vals.cumsum() / total\n",
    "print(cumsum)"
   ]
  },
  {
   "cell_type": "code",
   "execution_count": 13,
   "id": "c9c63987",
   "metadata": {},
   "outputs": [
    {
     "name": "stdout",
     "output_type": "stream",
     "text": [
      "Using cached SHAP artefacts\n",
      "Top features for UI/input: ['num__last_fico_range_high', 'num__last_fico_range_low', 'cat__term_ 36 months', 'cat__debt_settlement_flag_N', 'num__emp_length_na']\n",
      "With importances:\n",
      "num__last_fico_range_high: 1.0935\n",
      "num__last_fico_range_low: 0.3947\n",
      "cat__term_ 36 months: 0.0923\n",
      "cat__debt_settlement_flag_N: 0.0785\n",
      "num__emp_length_na: 0.0410\n"
     ]
    }
   ],
   "source": [
    "models = Path(\"../models\")\n",
    "reports = Path(\"../reports\")\n",
    "shap_idx_path = models / \"shap_topidx_v1.joblib\"\n",
    "shap_vals_path = models / \"shap_vals_train.npz\"\n",
    "preproc_path = models / \"preprocessor.joblib\"\n",
    "\n",
    "pre = joblib.load(preproc_path)\n",
    "feats = pre.get_feature_names_out()\n",
    "\n",
    "if shap_idx_path.exists() and shap_vals_path.exists():\n",
    "    print(\"Using cached SHAP artefacts\")\n",
    "    top_idx = joblib.load(shap_idx_path)\n",
    "    shap_vals = np.load(shap_vals_path)[\"shap_vals\"]\n",
    "else:\n",
    "    pass  \n",
    "\n",
    "N = 5 \n",
    "top_feature_names = feats[top_idx[:N]]\n",
    "top_importances = np.abs(shap_vals).mean(0)[top_idx[:N]]\n",
    "\n",
    "print(\"Top features for UI/input:\", list(top_feature_names))\n",
    "print(\"With importances:\")\n",
    "for name, imp in zip(top_feature_names, top_importances):\n",
    "    print(f\"{name}: {imp:.4f}\")\n",
    "\n",
    "pd.Series(top_importances, index=top_feature_names).to_csv(reports / \"top_features_for_ui.csv\")"
   ]
  }
 ],
 "metadata": {
  "kernelspec": {
   "display_name": "base",
   "language": "python",
   "name": "python3"
  },
  "language_info": {
   "codemirror_mode": {
    "name": "ipython",
    "version": 3
   },
   "file_extension": ".py",
   "mimetype": "text/x-python",
   "name": "python",
   "nbconvert_exporter": "python",
   "pygments_lexer": "ipython3",
   "version": "3.12.7"
  }
 },
 "nbformat": 4,
 "nbformat_minor": 5
}
